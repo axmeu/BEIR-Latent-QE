{
 "cells": [
  {
   "cell_type": "code",
   "execution_count": null,
   "id": "6b03fbb5",
   "metadata": {},
   "outputs": [],
   "source": [
    "#%pip install -r requirements.txt\n",
    "import os, numpy as np\n",
    "from src.data_loader import data_loader\n",
    "from src.preprocessing import clean_data\n",
    "from src.models.bm25 import BM25Model\n",
    "from src.models.lsa import LSAModel\n",
    "from src.evaluation import evaluate_model"
   ]
  },
  {
   "cell_type": "code",
   "execution_count": null,
   "id": "b65665ad",
   "metadata": {},
   "outputs": [],
   "source": [
    "dataset = \"nfcorpus\"  # \"nfcorpus\", \"arguana\", \"scifact\", \"scidocs\"\n",
    "corpus, queries, qrels = data_loader(dataset)\n",
    "cleaned_corpus, cleaned_queries = clean_data(corpus, queries)\n",
    "len(cleaned_corpus), len(cleaned_queries)"
   ]
  },
  {
   "cell_type": "code",
   "execution_count": null,
   "id": "02ebcf29",
   "metadata": {},
   "outputs": [],
   "source": [
    "bm25 = BM25Model()\n",
    "bm25.fit(cleaned_corpus)\n",
    "ndcg, _map, recall, precision = evaluate_model(bm25, cleaned_queries, qrels)\n",
    "print(f\"BM25 — NDCG@10: {ndcg['NDCG@10']:.3f} | Recall@100: {recall['Recall@100']:.3f}\")"
   ]
  },
  {
   "cell_type": "code",
   "execution_count": null,
   "id": "929df97b",
   "metadata": {},
   "outputs": [],
   "source": [
    "lsa = LSAModel()\n",
    "lsa.fit(cleaned_corpus, plot=True, gif=False)  # gif=True si tu veux enregistrer\n",
    "ndcg, _map, recall, precision = evaluate_model(lsa, cleaned_queries, qrels)\n",
    "print(f\"LSA — NDCG@10: {ndcg['NDCG@10']:.3f} | Recall@100: {recall['Recall@100']:.3f}\")"
   ]
  },
  {
   "cell_type": "code",
   "execution_count": null,
   "id": "94a2dc2e",
   "metadata": {},
   "outputs": [],
   "source": [
    "lsa_prf = LSAModel(rocchio_prf=True)\n",
    "lsa_prf.fit(cleaned_corpus)\n",
    "ndcg, _map, recall, precision = evaluate_model(lsa_prf, cleaned_queries, qrels)\n",
    "print(f\"LSA + Rocchio PRF — NDCG@10: {ndcg['NDCG@10']:.3f} | Recall@100: {recall['Recall@100']:.3f}\")"
   ]
  }
 ],
 "metadata": {
  "kernelspec": {
   "display_name": "venv (Py3.12)",
   "language": "python",
   "name": "venv"
  },
  "language_info": {
   "codemirror_mode": {
    "name": "ipython",
    "version": 3
   },
   "file_extension": ".py",
   "mimetype": "text/x-python",
   "name": "python",
   "nbconvert_exporter": "python",
   "pygments_lexer": "ipython3",
   "version": "3.12.1"
  }
 },
 "nbformat": 4,
 "nbformat_minor": 5
}
